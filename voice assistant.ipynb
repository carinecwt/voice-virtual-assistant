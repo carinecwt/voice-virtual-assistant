{
 "cells": [
  {
   "cell_type": "code",
   "execution_count": 1,
   "id": "10f57e4e-eff1-4d81-bd53-b067e98177dd",
   "metadata": {},
   "outputs": [
    {
     "name": "stdout",
     "output_type": "stream",
     "text": [
      "Requirement already satisfied: elevenlabs in c:\\users\\ccari\\anaconda3\\lib\\site-packages (2.12.1)\n",
      "Requirement already satisfied: python-dotenv in c:\\users\\ccari\\anaconda3\\lib\\site-packages (0.21.0)\n",
      "Requirement already satisfied: httpx>=0.21.2 in c:\\users\\ccari\\anaconda3\\lib\\site-packages (from elevenlabs) (0.27.0)\n",
      "Requirement already satisfied: pydantic>=1.9.2 in c:\\users\\ccari\\anaconda3\\lib\\site-packages (from elevenlabs) (2.8.2)\n",
      "Requirement already satisfied: pydantic-core<3.0.0,>=2.18.2 in c:\\users\\ccari\\anaconda3\\lib\\site-packages (from elevenlabs) (2.20.1)\n",
      "Requirement already satisfied: requests>=2.20 in c:\\users\\ccari\\anaconda3\\lib\\site-packages (from elevenlabs) (2.32.3)\n",
      "Requirement already satisfied: typing_extensions>=4.0.0 in c:\\users\\ccari\\anaconda3\\lib\\site-packages (from elevenlabs) (4.7.1)\n",
      "Requirement already satisfied: websockets>=11.0 in c:\\users\\ccari\\anaconda3\\lib\\site-packages (from elevenlabs) (15.0.1)\n",
      "Requirement already satisfied: anyio in c:\\users\\ccari\\anaconda3\\lib\\site-packages (from httpx>=0.21.2->elevenlabs) (3.5.0)\n",
      "Requirement already satisfied: certifi in c:\\users\\ccari\\anaconda3\\lib\\site-packages (from httpx>=0.21.2->elevenlabs) (2025.8.3)\n",
      "Requirement already satisfied: httpcore==1.* in c:\\users\\ccari\\anaconda3\\lib\\site-packages (from httpx>=0.21.2->elevenlabs) (1.0.2)\n",
      "Requirement already satisfied: idna in c:\\users\\ccari\\anaconda3\\lib\\site-packages (from httpx>=0.21.2->elevenlabs) (3.4)\n",
      "Requirement already satisfied: sniffio in c:\\users\\ccari\\anaconda3\\lib\\site-packages (from httpx>=0.21.2->elevenlabs) (1.2.0)\n",
      "Requirement already satisfied: h11<0.15,>=0.13 in c:\\users\\ccari\\anaconda3\\lib\\site-packages (from httpcore==1.*->httpx>=0.21.2->elevenlabs) (0.14.0)\n",
      "Requirement already satisfied: annotated-types>=0.4.0 in c:\\users\\ccari\\anaconda3\\lib\\site-packages (from pydantic>=1.9.2->elevenlabs) (0.6.0)\n",
      "Requirement already satisfied: charset-normalizer<4,>=2 in c:\\users\\ccari\\anaconda3\\lib\\site-packages (from requests>=2.20->elevenlabs) (2.0.4)\n",
      "Requirement already satisfied: urllib3<3,>=1.21.1 in c:\\users\\ccari\\anaconda3\\lib\\site-packages (from requests>=2.20->elevenlabs) (1.26.16)\n",
      "Note: you may need to restart the kernel to use updated packages.\n"
     ]
    }
   ],
   "source": [
    "pip install elevenlabs python-dotenv"
   ]
  },
  {
   "cell_type": "code",
   "execution_count": 20,
   "id": "70f16235-b0db-4ed5-a9b2-6f2fa108ddc3",
   "metadata": {},
   "outputs": [],
   "source": [
    "import os\n",
    "from dotenv import load_dotenv\n",
    "from elevenlabs.client import ElevenLabs\n",
    "from elevenlabs.conversational_ai.conversation import Conversation\n",
    "from elevenlabs.conversational_ai.default_audio_interface import DefaultAudioInterface\n",
    "from elevenlabs.types import ConversationConfig\n",
    "\n",
    "load_dotenv()  # loads the .env file\n",
    "\n",
    "AGENT_ID = os.getenv(\"AGENT_ID\")\n",
    "API_KEY = os.getenv(\"API_KEY\")"
   ]
  },
  {
   "cell_type": "code",
   "execution_count": 22,
   "id": "0c0867f7-ee29-4c37-9653-d09bccfb52d1",
   "metadata": {},
   "outputs": [
    {
     "name": "stdout",
     "output_type": "stream",
     "text": [
      "API key is valid!\n",
      "Permissions: Unknown\n"
     ]
    }
   ],
   "source": [
    "import requests\n",
    "headers = {\n",
    "    \"xi-api-key\": API_KEY\n",
    "}\n",
    "\n",
    "# Get info about account\n",
    "response = requests.get(\"https://api.elevenlabs.io/v1/user\", headers=headers)\n",
    "\n",
    "if response.status_code == 200:\n",
    "    data = response.json()\n",
    "    print(\"API key is valid!\")\n",
    "    print(\"Permissions:\", data.get(\"permissions\", \"Unknown\"))\n",
    "else:\n",
    "    print(\"API key error:\", response.status_code, response.text)"
   ]
  },
  {
   "cell_type": "code",
   "execution_count": 3,
   "id": "85c9782f-7636-461c-9b10-8c51d2c89c09",
   "metadata": {},
   "outputs": [],
   "source": [
    "# Configure user, schedule, and prompts\n",
    "user_name = \"Carine\"\n",
    "fitness_goals = \"Lose 3kg by April; Improve jawline with face yoga; Run 5km without stopping\"\n",
    "prompt = f\"You are a motivating fitness assistant. Your interlocutor’s goals are: {fitness_goals}. Provide workout ideas, motivational support, and daily check-ins.\"\n",
    "first_message = f\"Hi {user_name}, ready for today’s workout? Should I suggest some face yoga or cardio today?\"\n",
    "\n",
    "conversation_override = {\n",
    "    \"agent\": {\n",
    "        \"prompt\": {\"prompt\": prompt},\n",
    "        \"first_message\": first_message,\n",
    "    },\n",
    "}\n",
    "\n",
    "config = ConversationConfig(\n",
    "    conversation_config_override=conversation_override,\n",
    "    extra_body={},\n",
    "    dynamic_variables={},\n",
    ")\n",
    "\n",
    "client = ElevenLabs(api_key=API_KEY)\n",
    "\n",
    "conversation = Conversation(\n",
    "    client,\n",
    "    AGENT_ID,\n",
    "    config=config,\n",
    "    requires_auth=True,\n",
    "    audio_interface=DefaultAudioInterface(),\n",
    ")"
   ]
  },
  {
   "cell_type": "code",
   "execution_count": 12,
   "id": "c5d97c20-eb30-484d-a1d1-8419cc3eb41e",
   "metadata": {},
   "outputs": [
    {
     "ename": "ApiError",
     "evalue": "headers: {'date': 'Thu, 28 Aug 2025 16:57:02 GMT', 'server': 'uvicorn', 'content-length': '142', 'content-type': 'application/json', 'access-control-allow-origin': '*', 'access-control-allow-headers': '*', 'access-control-allow-methods': 'POST, PATCH, OPTIONS, DELETE, GET, PUT', 'access-control-max-age': '600', 'strict-transport-security': 'max-age=31536000; includeSubDomains', 'x-trace-id': '409e9c36fff20387e0dfece5186d7b56', 'x-region': 'us-central1', 'via': '1.1 google, 1.1 google', 'alt-svc': 'h3=\":443\"; ma=2592000,h3-29=\":443\"; ma=2592000'}, status_code: 401, body: {'detail': {'status': 'missing_permissions', 'message': 'The API key you used is missing the permission convai_write to execute this operation.'}}",
     "output_type": "error",
     "traceback": [
      "\u001b[1;31m---------------------------------------------------------------------------\u001b[0m",
      "\u001b[1;31mApiError\u001b[0m                                  Traceback (most recent call last)",
      "Cell \u001b[1;32mIn[12], line 23\u001b[0m\n\u001b[0;32m     11\u001b[0m \u001b[38;5;66;03m# Start session\u001b[39;00m\n\u001b[0;32m     12\u001b[0m conversation \u001b[38;5;241m=\u001b[39m Conversation(\n\u001b[0;32m     13\u001b[0m     client,\n\u001b[0;32m     14\u001b[0m     AGENT_ID,\n\u001b[1;32m   (...)\u001b[0m\n\u001b[0;32m     20\u001b[0m     callback_user_transcript\u001b[38;5;241m=\u001b[39mprint_user_transcript,\n\u001b[0;32m     21\u001b[0m )\n\u001b[1;32m---> 23\u001b[0m conversation\u001b[38;5;241m.\u001b[39mstart_session()\n",
      "File \u001b[1;32m~\\anaconda3\\Lib\\site-packages\\elevenlabs\\conversational_ai\\conversation.py:510\u001b[0m, in \u001b[0;36mConversation.start_session\u001b[1;34m(self)\u001b[0m\n\u001b[0;32m    505\u001b[0m \u001b[38;5;28;01mdef\u001b[39;00m \u001b[38;5;21mstart_session\u001b[39m(\u001b[38;5;28mself\u001b[39m):\n\u001b[0;32m    506\u001b[0m \u001b[38;5;250m    \u001b[39m\u001b[38;5;124;03m\"\"\"Starts the conversation session.\u001b[39;00m\n\u001b[0;32m    507\u001b[0m \n\u001b[0;32m    508\u001b[0m \u001b[38;5;124;03m    Will run in background thread until `end_session` is called.\u001b[39;00m\n\u001b[0;32m    509\u001b[0m \u001b[38;5;124;03m    \"\"\"\u001b[39;00m\n\u001b[1;32m--> 510\u001b[0m     ws_url \u001b[38;5;241m=\u001b[39m \u001b[38;5;28mself\u001b[39m\u001b[38;5;241m.\u001b[39m_get_signed_url() \u001b[38;5;28;01mif\u001b[39;00m \u001b[38;5;28mself\u001b[39m\u001b[38;5;241m.\u001b[39mrequires_auth \u001b[38;5;28;01melse\u001b[39;00m \u001b[38;5;28mself\u001b[39m\u001b[38;5;241m.\u001b[39m_get_wss_url()\n\u001b[0;32m    511\u001b[0m     \u001b[38;5;28mself\u001b[39m\u001b[38;5;241m.\u001b[39m_thread \u001b[38;5;241m=\u001b[39m threading\u001b[38;5;241m.\u001b[39mThread(target\u001b[38;5;241m=\u001b[39m\u001b[38;5;28mself\u001b[39m\u001b[38;5;241m.\u001b[39m_run, args\u001b[38;5;241m=\u001b[39m(ws_url,))\n\u001b[0;32m    512\u001b[0m     \u001b[38;5;28mself\u001b[39m\u001b[38;5;241m.\u001b[39m_thread\u001b[38;5;241m.\u001b[39mstart()\n",
      "File \u001b[1;32m~\\anaconda3\\Lib\\site-packages\\elevenlabs\\conversational_ai\\conversation.py:309\u001b[0m, in \u001b[0;36mBaseConversation._get_signed_url\u001b[1;34m(self)\u001b[0m\n\u001b[0;32m    308\u001b[0m \u001b[38;5;28;01mdef\u001b[39;00m \u001b[38;5;21m_get_signed_url\u001b[39m(\u001b[38;5;28mself\u001b[39m):\n\u001b[1;32m--> 309\u001b[0m     response \u001b[38;5;241m=\u001b[39m \u001b[38;5;28mself\u001b[39m\u001b[38;5;241m.\u001b[39mclient\u001b[38;5;241m.\u001b[39mconversational_ai\u001b[38;5;241m.\u001b[39mconversations\u001b[38;5;241m.\u001b[39mget_signed_url(agent_id\u001b[38;5;241m=\u001b[39m\u001b[38;5;28mself\u001b[39m\u001b[38;5;241m.\u001b[39magent_id)\n\u001b[0;32m    310\u001b[0m     signed_url \u001b[38;5;241m=\u001b[39m response\u001b[38;5;241m.\u001b[39msigned_url\n\u001b[0;32m    311\u001b[0m     \u001b[38;5;66;03m# Append source and version query parameters to the signed URL\u001b[39;00m\n",
      "File \u001b[1;32m~\\anaconda3\\Lib\\site-packages\\elevenlabs\\conversational_ai\\conversations\\client.py:66\u001b[0m, in \u001b[0;36mConversationsClient.get_signed_url\u001b[1;34m(self, agent_id, request_options)\u001b[0m\n\u001b[0;32m     36\u001b[0m \u001b[38;5;28;01mdef\u001b[39;00m \u001b[38;5;21mget_signed_url\u001b[39m(\n\u001b[0;32m     37\u001b[0m     \u001b[38;5;28mself\u001b[39m, \u001b[38;5;241m*\u001b[39m, agent_id: \u001b[38;5;28mstr\u001b[39m, request_options: typing\u001b[38;5;241m.\u001b[39mOptional[RequestOptions] \u001b[38;5;241m=\u001b[39m \u001b[38;5;28;01mNone\u001b[39;00m\n\u001b[0;32m     38\u001b[0m ) \u001b[38;5;241m-\u001b[39m\u001b[38;5;241m>\u001b[39m ConversationSignedUrlResponseModel:\n\u001b[0;32m     39\u001b[0m \u001b[38;5;250m    \u001b[39m\u001b[38;5;124;03m\"\"\"\u001b[39;00m\n\u001b[0;32m     40\u001b[0m \u001b[38;5;124;03m    Get a signed url to start a conversation with an agent with an agent that requires authorization\u001b[39;00m\n\u001b[0;32m     41\u001b[0m \n\u001b[1;32m   (...)\u001b[0m\n\u001b[0;32m     64\u001b[0m \u001b[38;5;124;03m    )\u001b[39;00m\n\u001b[0;32m     65\u001b[0m \u001b[38;5;124;03m    \"\"\"\u001b[39;00m\n\u001b[1;32m---> 66\u001b[0m     _response \u001b[38;5;241m=\u001b[39m \u001b[38;5;28mself\u001b[39m\u001b[38;5;241m.\u001b[39m_raw_client\u001b[38;5;241m.\u001b[39mget_signed_url(agent_id\u001b[38;5;241m=\u001b[39magent_id, request_options\u001b[38;5;241m=\u001b[39mrequest_options)\n\u001b[0;32m     67\u001b[0m     \u001b[38;5;28;01mreturn\u001b[39;00m _response\u001b[38;5;241m.\u001b[39mdata\n",
      "File \u001b[1;32m~\\anaconda3\\Lib\\site-packages\\elevenlabs\\conversational_ai\\conversations\\raw_client.py:77\u001b[0m, in \u001b[0;36mRawConversationsClient.get_signed_url\u001b[1;34m(self, agent_id, request_options)\u001b[0m\n\u001b[0;32m     75\u001b[0m \u001b[38;5;28;01mexcept\u001b[39;00m JSONDecodeError:\n\u001b[0;32m     76\u001b[0m     \u001b[38;5;28;01mraise\u001b[39;00m ApiError(status_code\u001b[38;5;241m=\u001b[39m_response\u001b[38;5;241m.\u001b[39mstatus_code, headers\u001b[38;5;241m=\u001b[39m\u001b[38;5;28mdict\u001b[39m(_response\u001b[38;5;241m.\u001b[39mheaders), body\u001b[38;5;241m=\u001b[39m_response\u001b[38;5;241m.\u001b[39mtext)\n\u001b[1;32m---> 77\u001b[0m \u001b[38;5;28;01mraise\u001b[39;00m ApiError(status_code\u001b[38;5;241m=\u001b[39m_response\u001b[38;5;241m.\u001b[39mstatus_code, headers\u001b[38;5;241m=\u001b[39m\u001b[38;5;28mdict\u001b[39m(_response\u001b[38;5;241m.\u001b[39mheaders), body\u001b[38;5;241m=\u001b[39m_response_json)\n",
      "\u001b[1;31mApiError\u001b[0m: headers: {'date': 'Thu, 28 Aug 2025 16:57:02 GMT', 'server': 'uvicorn', 'content-length': '142', 'content-type': 'application/json', 'access-control-allow-origin': '*', 'access-control-allow-headers': '*', 'access-control-allow-methods': 'POST, PATCH, OPTIONS, DELETE, GET, PUT', 'access-control-max-age': '600', 'strict-transport-security': 'max-age=31536000; includeSubDomains', 'x-trace-id': '409e9c36fff20387e0dfece5186d7b56', 'x-region': 'us-central1', 'via': '1.1 google, 1.1 google', 'alt-svc': 'h3=\":443\"; ma=2592000,h3-29=\":443\"; ma=2592000'}, status_code: 401, body: {'detail': {'status': 'missing_permissions', 'message': 'The API key you used is missing the permission convai_write to execute this operation.'}}"
     ]
    }
   ],
   "source": [
    "# Callbacks\n",
    "def print_agent_response(response):\n",
    "    print(f\"Agent: {response}\")\n",
    "\n",
    "def print_interrupted_response(original, corrected):\n",
    "    print(f\"Agent interrupted, truncated response: {corrected}\")\n",
    "\n",
    "def print_user_transcript(transcript):\n",
    "    print(f\"User: {transcript}\")\n",
    "\n",
    "# Start session\n",
    "conversation = Conversation(\n",
    "    client,\n",
    "    AGENT_ID,\n",
    "    config=config,\n",
    "    requires_auth=True,\n",
    "    audio_interface=DefaultAudioInterface(),\n",
    "    callback_agent_response=print_agent_response,\n",
    "    callback_agent_response_correction=print_interrupted_response,\n",
    "    callback_user_transcript=print_user_transcript,\n",
    ")\n",
    "\n",
    "conversation.start_session()"
   ]
  }
 ],
 "metadata": {
  "kernelspec": {
   "display_name": "Python [conda env:base] *",
   "language": "python",
   "name": "conda-base-py"
  },
  "language_info": {
   "codemirror_mode": {
    "name": "ipython",
    "version": 3
   },
   "file_extension": ".py",
   "mimetype": "text/x-python",
   "name": "python",
   "nbconvert_exporter": "python",
   "pygments_lexer": "ipython3",
   "version": "3.11.5"
  }
 },
 "nbformat": 4,
 "nbformat_minor": 5
}
